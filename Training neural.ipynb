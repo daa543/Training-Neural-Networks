{
  "cells": [
    {
      "cell_type": "markdown",
      "metadata": {
        "id": "BcArj-B0oBzn"
      },
      "source": [
        "import libraries "
      ]
    },
    {
      "cell_type": "code",
      "execution_count": null,
      "metadata": {
        "id": "rsSqqVsimn-p"
      },
      "outputs": [],
      "source": [
        "import torch\n",
        "import torch.nn as nn\n",
        "from torch.optim import SGD\n",
        "import torch.nn.functional as F\n",
        "from torch.utils.data import Dataset, DataLoader\n",
        "import torchvision\n",
        "import numpy as np\n",
        "import matplotlib.pyplot as plt\n",
        "import torch.optim as optim"
      ]
    },
    {
      "cell_type": "markdown",
      "metadata": {
        "id": "aOVwu6u1xgCG"
      },
      "source": [
        "Step 1\n",
        "\n",
        "Download the MNIST dataset from kaggel and apply any preprocessing needed on the data.\n",
        "Split the data randomly into being 80% training set and 20% validation set\n"
      ]
    },
    {
      "cell_type": "markdown",
      "metadata": {
        "id": "5mgrN0P7oNAd"
      },
      "source": [
        "Reading the data"
      ]
    },
    {
      "cell_type": "code",
      "execution_count": null,
      "metadata": {
        "colab": {
          "base_uri": "https://localhost:8080/",
          "height": 423
        },
        "id": "aC54tJCRx-LZ",
        "outputId": "f65de10a-9941-486c-9cd9-aa8e1de2451a"
      },
      "outputs": [
        {
          "data": {
            "text/html": [
              "<div>\n",
              "<style scoped>\n",
              "    .dataframe tbody tr th:only-of-type {\n",
              "        vertical-align: middle;\n",
              "    }\n",
              "\n",
              "    .dataframe tbody tr th {\n",
              "        vertical-align: top;\n",
              "    }\n",
              "\n",
              "    .dataframe thead th {\n",
              "        text-align: right;\n",
              "    }\n",
              "</style>\n",
              "<table border=\"1\" class=\"dataframe\">\n",
              "  <thead>\n",
              "    <tr style=\"text-align: right;\">\n",
              "      <th></th>\n",
              "      <th>label</th>\n",
              "      <th>1x1</th>\n",
              "      <th>1x2</th>\n",
              "      <th>1x3</th>\n",
              "      <th>1x4</th>\n",
              "      <th>1x5</th>\n",
              "      <th>1x6</th>\n",
              "      <th>1x7</th>\n",
              "      <th>1x8</th>\n",
              "      <th>1x9</th>\n",
              "      <th>...</th>\n",
              "      <th>28x19</th>\n",
              "      <th>28x20</th>\n",
              "      <th>28x21</th>\n",
              "      <th>28x22</th>\n",
              "      <th>28x23</th>\n",
              "      <th>28x24</th>\n",
              "      <th>28x25</th>\n",
              "      <th>28x26</th>\n",
              "      <th>28x27</th>\n",
              "      <th>28x28</th>\n",
              "    </tr>\n",
              "  </thead>\n",
              "  <tbody>\n",
              "    <tr>\n",
              "      <th>0</th>\n",
              "      <td>5</td>\n",
              "      <td>0</td>\n",
              "      <td>0</td>\n",
              "      <td>0</td>\n",
              "      <td>0</td>\n",
              "      <td>0</td>\n",
              "      <td>0</td>\n",
              "      <td>0</td>\n",
              "      <td>0</td>\n",
              "      <td>0</td>\n",
              "      <td>...</td>\n",
              "      <td>0</td>\n",
              "      <td>0</td>\n",
              "      <td>0</td>\n",
              "      <td>0</td>\n",
              "      <td>0</td>\n",
              "      <td>0</td>\n",
              "      <td>0</td>\n",
              "      <td>0</td>\n",
              "      <td>0</td>\n",
              "      <td>0</td>\n",
              "    </tr>\n",
              "    <tr>\n",
              "      <th>1</th>\n",
              "      <td>0</td>\n",
              "      <td>0</td>\n",
              "      <td>0</td>\n",
              "      <td>0</td>\n",
              "      <td>0</td>\n",
              "      <td>0</td>\n",
              "      <td>0</td>\n",
              "      <td>0</td>\n",
              "      <td>0</td>\n",
              "      <td>0</td>\n",
              "      <td>...</td>\n",
              "      <td>0</td>\n",
              "      <td>0</td>\n",
              "      <td>0</td>\n",
              "      <td>0</td>\n",
              "      <td>0</td>\n",
              "      <td>0</td>\n",
              "      <td>0</td>\n",
              "      <td>0</td>\n",
              "      <td>0</td>\n",
              "      <td>0</td>\n",
              "    </tr>\n",
              "    <tr>\n",
              "      <th>2</th>\n",
              "      <td>4</td>\n",
              "      <td>0</td>\n",
              "      <td>0</td>\n",
              "      <td>0</td>\n",
              "      <td>0</td>\n",
              "      <td>0</td>\n",
              "      <td>0</td>\n",
              "      <td>0</td>\n",
              "      <td>0</td>\n",
              "      <td>0</td>\n",
              "      <td>...</td>\n",
              "      <td>0</td>\n",
              "      <td>0</td>\n",
              "      <td>0</td>\n",
              "      <td>0</td>\n",
              "      <td>0</td>\n",
              "      <td>0</td>\n",
              "      <td>0</td>\n",
              "      <td>0</td>\n",
              "      <td>0</td>\n",
              "      <td>0</td>\n",
              "    </tr>\n",
              "    <tr>\n",
              "      <th>3</th>\n",
              "      <td>1</td>\n",
              "      <td>0</td>\n",
              "      <td>0</td>\n",
              "      <td>0</td>\n",
              "      <td>0</td>\n",
              "      <td>0</td>\n",
              "      <td>0</td>\n",
              "      <td>0</td>\n",
              "      <td>0</td>\n",
              "      <td>0</td>\n",
              "      <td>...</td>\n",
              "      <td>0</td>\n",
              "      <td>0</td>\n",
              "      <td>0</td>\n",
              "      <td>0</td>\n",
              "      <td>0</td>\n",
              "      <td>0</td>\n",
              "      <td>0</td>\n",
              "      <td>0</td>\n",
              "      <td>0</td>\n",
              "      <td>0</td>\n",
              "    </tr>\n",
              "    <tr>\n",
              "      <th>4</th>\n",
              "      <td>9</td>\n",
              "      <td>0</td>\n",
              "      <td>0</td>\n",
              "      <td>0</td>\n",
              "      <td>0</td>\n",
              "      <td>0</td>\n",
              "      <td>0</td>\n",
              "      <td>0</td>\n",
              "      <td>0</td>\n",
              "      <td>0</td>\n",
              "      <td>...</td>\n",
              "      <td>0</td>\n",
              "      <td>0</td>\n",
              "      <td>0</td>\n",
              "      <td>0</td>\n",
              "      <td>0</td>\n",
              "      <td>0</td>\n",
              "      <td>0</td>\n",
              "      <td>0</td>\n",
              "      <td>0</td>\n",
              "      <td>0</td>\n",
              "    </tr>\n",
              "    <tr>\n",
              "      <th>...</th>\n",
              "      <td>...</td>\n",
              "      <td>...</td>\n",
              "      <td>...</td>\n",
              "      <td>...</td>\n",
              "      <td>...</td>\n",
              "      <td>...</td>\n",
              "      <td>...</td>\n",
              "      <td>...</td>\n",
              "      <td>...</td>\n",
              "      <td>...</td>\n",
              "      <td>...</td>\n",
              "      <td>...</td>\n",
              "      <td>...</td>\n",
              "      <td>...</td>\n",
              "      <td>...</td>\n",
              "      <td>...</td>\n",
              "      <td>...</td>\n",
              "      <td>...</td>\n",
              "      <td>...</td>\n",
              "      <td>...</td>\n",
              "      <td>...</td>\n",
              "    </tr>\n",
              "    <tr>\n",
              "      <th>59995</th>\n",
              "      <td>8</td>\n",
              "      <td>0</td>\n",
              "      <td>0</td>\n",
              "      <td>0</td>\n",
              "      <td>0</td>\n",
              "      <td>0</td>\n",
              "      <td>0</td>\n",
              "      <td>0</td>\n",
              "      <td>0</td>\n",
              "      <td>0</td>\n",
              "      <td>...</td>\n",
              "      <td>0</td>\n",
              "      <td>0</td>\n",
              "      <td>0</td>\n",
              "      <td>0</td>\n",
              "      <td>0</td>\n",
              "      <td>0</td>\n",
              "      <td>0</td>\n",
              "      <td>0</td>\n",
              "      <td>0</td>\n",
              "      <td>0</td>\n",
              "    </tr>\n",
              "    <tr>\n",
              "      <th>59996</th>\n",
              "      <td>3</td>\n",
              "      <td>0</td>\n",
              "      <td>0</td>\n",
              "      <td>0</td>\n",
              "      <td>0</td>\n",
              "      <td>0</td>\n",
              "      <td>0</td>\n",
              "      <td>0</td>\n",
              "      <td>0</td>\n",
              "      <td>0</td>\n",
              "      <td>...</td>\n",
              "      <td>0</td>\n",
              "      <td>0</td>\n",
              "      <td>0</td>\n",
              "      <td>0</td>\n",
              "      <td>0</td>\n",
              "      <td>0</td>\n",
              "      <td>0</td>\n",
              "      <td>0</td>\n",
              "      <td>0</td>\n",
              "      <td>0</td>\n",
              "    </tr>\n",
              "    <tr>\n",
              "      <th>59997</th>\n",
              "      <td>5</td>\n",
              "      <td>0</td>\n",
              "      <td>0</td>\n",
              "      <td>0</td>\n",
              "      <td>0</td>\n",
              "      <td>0</td>\n",
              "      <td>0</td>\n",
              "      <td>0</td>\n",
              "      <td>0</td>\n",
              "      <td>0</td>\n",
              "      <td>...</td>\n",
              "      <td>0</td>\n",
              "      <td>0</td>\n",
              "      <td>0</td>\n",
              "      <td>0</td>\n",
              "      <td>0</td>\n",
              "      <td>0</td>\n",
              "      <td>0</td>\n",
              "      <td>0</td>\n",
              "      <td>0</td>\n",
              "      <td>0</td>\n",
              "    </tr>\n",
              "    <tr>\n",
              "      <th>59998</th>\n",
              "      <td>6</td>\n",
              "      <td>0</td>\n",
              "      <td>0</td>\n",
              "      <td>0</td>\n",
              "      <td>0</td>\n",
              "      <td>0</td>\n",
              "      <td>0</td>\n",
              "      <td>0</td>\n",
              "      <td>0</td>\n",
              "      <td>0</td>\n",
              "      <td>...</td>\n",
              "      <td>0</td>\n",
              "      <td>0</td>\n",
              "      <td>0</td>\n",
              "      <td>0</td>\n",
              "      <td>0</td>\n",
              "      <td>0</td>\n",
              "      <td>0</td>\n",
              "      <td>0</td>\n",
              "      <td>0</td>\n",
              "      <td>0</td>\n",
              "    </tr>\n",
              "    <tr>\n",
              "      <th>59999</th>\n",
              "      <td>8</td>\n",
              "      <td>0</td>\n",
              "      <td>0</td>\n",
              "      <td>0</td>\n",
              "      <td>0</td>\n",
              "      <td>0</td>\n",
              "      <td>0</td>\n",
              "      <td>0</td>\n",
              "      <td>0</td>\n",
              "      <td>0</td>\n",
              "      <td>...</td>\n",
              "      <td>0</td>\n",
              "      <td>0</td>\n",
              "      <td>0</td>\n",
              "      <td>0</td>\n",
              "      <td>0</td>\n",
              "      <td>0</td>\n",
              "      <td>0</td>\n",
              "      <td>0</td>\n",
              "      <td>0</td>\n",
              "      <td>0</td>\n",
              "    </tr>\n",
              "  </tbody>\n",
              "</table>\n",
              "<p>60000 rows × 785 columns</p>\n",
              "</div>"
            ],
            "text/plain": [
              "       label  1x1  1x2  1x3  1x4  1x5  1x6  1x7  1x8  1x9  ...  28x19  28x20  \\\n",
              "0          5    0    0    0    0    0    0    0    0    0  ...      0      0   \n",
              "1          0    0    0    0    0    0    0    0    0    0  ...      0      0   \n",
              "2          4    0    0    0    0    0    0    0    0    0  ...      0      0   \n",
              "3          1    0    0    0    0    0    0    0    0    0  ...      0      0   \n",
              "4          9    0    0    0    0    0    0    0    0    0  ...      0      0   \n",
              "...      ...  ...  ...  ...  ...  ...  ...  ...  ...  ...  ...    ...    ...   \n",
              "59995      8    0    0    0    0    0    0    0    0    0  ...      0      0   \n",
              "59996      3    0    0    0    0    0    0    0    0    0  ...      0      0   \n",
              "59997      5    0    0    0    0    0    0    0    0    0  ...      0      0   \n",
              "59998      6    0    0    0    0    0    0    0    0    0  ...      0      0   \n",
              "59999      8    0    0    0    0    0    0    0    0    0  ...      0      0   \n",
              "\n",
              "       28x21  28x22  28x23  28x24  28x25  28x26  28x27  28x28  \n",
              "0          0      0      0      0      0      0      0      0  \n",
              "1          0      0      0      0      0      0      0      0  \n",
              "2          0      0      0      0      0      0      0      0  \n",
              "3          0      0      0      0      0      0      0      0  \n",
              "4          0      0      0      0      0      0      0      0  \n",
              "...      ...    ...    ...    ...    ...    ...    ...    ...  \n",
              "59995      0      0      0      0      0      0      0      0  \n",
              "59996      0      0      0      0      0      0      0      0  \n",
              "59997      0      0      0      0      0      0      0      0  \n",
              "59998      0      0      0      0      0      0      0      0  \n",
              "59999      0      0      0      0      0      0      0      0  \n",
              "\n",
              "[60000 rows x 785 columns]"
            ]
          },
          "execution_count": 133,
          "metadata": {},
          "output_type": "execute_result"
        }
      ],
      "source": [
        "import pandas as pd\n",
        "from sklearn.model_selection import train_test_split\n",
        "dataset = pd.read_csv(\"C:/Users/Doaa Samir/Documents/mnist_train.csv\")\n",
        "dataset"
      ]
    },
    {
      "cell_type": "markdown",
      "metadata": {
        "id": "umGn7kcuoYhM"
      },
      "source": [
        "extract features and labels"
      ]
    },
    {
      "cell_type": "code",
      "execution_count": null,
      "metadata": {
        "colab": {
          "base_uri": "https://localhost:8080/",
          "height": 423
        },
        "id": "UqwKkXz4yCex",
        "outputId": "0c9fbd31-f7e2-438f-fcf0-ffe251f09b00"
      },
      "outputs": [
        {
          "data": {
            "text/html": [
              "<div>\n",
              "<style scoped>\n",
              "    .dataframe tbody tr th:only-of-type {\n",
              "        vertical-align: middle;\n",
              "    }\n",
              "\n",
              "    .dataframe tbody tr th {\n",
              "        vertical-align: top;\n",
              "    }\n",
              "\n",
              "    .dataframe thead th {\n",
              "        text-align: right;\n",
              "    }\n",
              "</style>\n",
              "<table border=\"1\" class=\"dataframe\">\n",
              "  <thead>\n",
              "    <tr style=\"text-align: right;\">\n",
              "      <th></th>\n",
              "      <th>1x1</th>\n",
              "      <th>1x2</th>\n",
              "      <th>1x3</th>\n",
              "      <th>1x4</th>\n",
              "      <th>1x5</th>\n",
              "      <th>1x6</th>\n",
              "      <th>1x7</th>\n",
              "      <th>1x8</th>\n",
              "      <th>1x9</th>\n",
              "      <th>1x10</th>\n",
              "      <th>...</th>\n",
              "      <th>28x19</th>\n",
              "      <th>28x20</th>\n",
              "      <th>28x21</th>\n",
              "      <th>28x22</th>\n",
              "      <th>28x23</th>\n",
              "      <th>28x24</th>\n",
              "      <th>28x25</th>\n",
              "      <th>28x26</th>\n",
              "      <th>28x27</th>\n",
              "      <th>28x28</th>\n",
              "    </tr>\n",
              "  </thead>\n",
              "  <tbody>\n",
              "    <tr>\n",
              "      <th>0</th>\n",
              "      <td>0</td>\n",
              "      <td>0</td>\n",
              "      <td>0</td>\n",
              "      <td>0</td>\n",
              "      <td>0</td>\n",
              "      <td>0</td>\n",
              "      <td>0</td>\n",
              "      <td>0</td>\n",
              "      <td>0</td>\n",
              "      <td>0</td>\n",
              "      <td>...</td>\n",
              "      <td>0</td>\n",
              "      <td>0</td>\n",
              "      <td>0</td>\n",
              "      <td>0</td>\n",
              "      <td>0</td>\n",
              "      <td>0</td>\n",
              "      <td>0</td>\n",
              "      <td>0</td>\n",
              "      <td>0</td>\n",
              "      <td>0</td>\n",
              "    </tr>\n",
              "    <tr>\n",
              "      <th>1</th>\n",
              "      <td>0</td>\n",
              "      <td>0</td>\n",
              "      <td>0</td>\n",
              "      <td>0</td>\n",
              "      <td>0</td>\n",
              "      <td>0</td>\n",
              "      <td>0</td>\n",
              "      <td>0</td>\n",
              "      <td>0</td>\n",
              "      <td>0</td>\n",
              "      <td>...</td>\n",
              "      <td>0</td>\n",
              "      <td>0</td>\n",
              "      <td>0</td>\n",
              "      <td>0</td>\n",
              "      <td>0</td>\n",
              "      <td>0</td>\n",
              "      <td>0</td>\n",
              "      <td>0</td>\n",
              "      <td>0</td>\n",
              "      <td>0</td>\n",
              "    </tr>\n",
              "    <tr>\n",
              "      <th>2</th>\n",
              "      <td>0</td>\n",
              "      <td>0</td>\n",
              "      <td>0</td>\n",
              "      <td>0</td>\n",
              "      <td>0</td>\n",
              "      <td>0</td>\n",
              "      <td>0</td>\n",
              "      <td>0</td>\n",
              "      <td>0</td>\n",
              "      <td>0</td>\n",
              "      <td>...</td>\n",
              "      <td>0</td>\n",
              "      <td>0</td>\n",
              "      <td>0</td>\n",
              "      <td>0</td>\n",
              "      <td>0</td>\n",
              "      <td>0</td>\n",
              "      <td>0</td>\n",
              "      <td>0</td>\n",
              "      <td>0</td>\n",
              "      <td>0</td>\n",
              "    </tr>\n",
              "    <tr>\n",
              "      <th>3</th>\n",
              "      <td>0</td>\n",
              "      <td>0</td>\n",
              "      <td>0</td>\n",
              "      <td>0</td>\n",
              "      <td>0</td>\n",
              "      <td>0</td>\n",
              "      <td>0</td>\n",
              "      <td>0</td>\n",
              "      <td>0</td>\n",
              "      <td>0</td>\n",
              "      <td>...</td>\n",
              "      <td>0</td>\n",
              "      <td>0</td>\n",
              "      <td>0</td>\n",
              "      <td>0</td>\n",
              "      <td>0</td>\n",
              "      <td>0</td>\n",
              "      <td>0</td>\n",
              "      <td>0</td>\n",
              "      <td>0</td>\n",
              "      <td>0</td>\n",
              "    </tr>\n",
              "    <tr>\n",
              "      <th>4</th>\n",
              "      <td>0</td>\n",
              "      <td>0</td>\n",
              "      <td>0</td>\n",
              "      <td>0</td>\n",
              "      <td>0</td>\n",
              "      <td>0</td>\n",
              "      <td>0</td>\n",
              "      <td>0</td>\n",
              "      <td>0</td>\n",
              "      <td>0</td>\n",
              "      <td>...</td>\n",
              "      <td>0</td>\n",
              "      <td>0</td>\n",
              "      <td>0</td>\n",
              "      <td>0</td>\n",
              "      <td>0</td>\n",
              "      <td>0</td>\n",
              "      <td>0</td>\n",
              "      <td>0</td>\n",
              "      <td>0</td>\n",
              "      <td>0</td>\n",
              "    </tr>\n",
              "    <tr>\n",
              "      <th>...</th>\n",
              "      <td>...</td>\n",
              "      <td>...</td>\n",
              "      <td>...</td>\n",
              "      <td>...</td>\n",
              "      <td>...</td>\n",
              "      <td>...</td>\n",
              "      <td>...</td>\n",
              "      <td>...</td>\n",
              "      <td>...</td>\n",
              "      <td>...</td>\n",
              "      <td>...</td>\n",
              "      <td>...</td>\n",
              "      <td>...</td>\n",
              "      <td>...</td>\n",
              "      <td>...</td>\n",
              "      <td>...</td>\n",
              "      <td>...</td>\n",
              "      <td>...</td>\n",
              "      <td>...</td>\n",
              "      <td>...</td>\n",
              "      <td>...</td>\n",
              "    </tr>\n",
              "    <tr>\n",
              "      <th>59995</th>\n",
              "      <td>0</td>\n",
              "      <td>0</td>\n",
              "      <td>0</td>\n",
              "      <td>0</td>\n",
              "      <td>0</td>\n",
              "      <td>0</td>\n",
              "      <td>0</td>\n",
              "      <td>0</td>\n",
              "      <td>0</td>\n",
              "      <td>0</td>\n",
              "      <td>...</td>\n",
              "      <td>0</td>\n",
              "      <td>0</td>\n",
              "      <td>0</td>\n",
              "      <td>0</td>\n",
              "      <td>0</td>\n",
              "      <td>0</td>\n",
              "      <td>0</td>\n",
              "      <td>0</td>\n",
              "      <td>0</td>\n",
              "      <td>0</td>\n",
              "    </tr>\n",
              "    <tr>\n",
              "      <th>59996</th>\n",
              "      <td>0</td>\n",
              "      <td>0</td>\n",
              "      <td>0</td>\n",
              "      <td>0</td>\n",
              "      <td>0</td>\n",
              "      <td>0</td>\n",
              "      <td>0</td>\n",
              "      <td>0</td>\n",
              "      <td>0</td>\n",
              "      <td>0</td>\n",
              "      <td>...</td>\n",
              "      <td>0</td>\n",
              "      <td>0</td>\n",
              "      <td>0</td>\n",
              "      <td>0</td>\n",
              "      <td>0</td>\n",
              "      <td>0</td>\n",
              "      <td>0</td>\n",
              "      <td>0</td>\n",
              "      <td>0</td>\n",
              "      <td>0</td>\n",
              "    </tr>\n",
              "    <tr>\n",
              "      <th>59997</th>\n",
              "      <td>0</td>\n",
              "      <td>0</td>\n",
              "      <td>0</td>\n",
              "      <td>0</td>\n",
              "      <td>0</td>\n",
              "      <td>0</td>\n",
              "      <td>0</td>\n",
              "      <td>0</td>\n",
              "      <td>0</td>\n",
              "      <td>0</td>\n",
              "      <td>...</td>\n",
              "      <td>0</td>\n",
              "      <td>0</td>\n",
              "      <td>0</td>\n",
              "      <td>0</td>\n",
              "      <td>0</td>\n",
              "      <td>0</td>\n",
              "      <td>0</td>\n",
              "      <td>0</td>\n",
              "      <td>0</td>\n",
              "      <td>0</td>\n",
              "    </tr>\n",
              "    <tr>\n",
              "      <th>59998</th>\n",
              "      <td>0</td>\n",
              "      <td>0</td>\n",
              "      <td>0</td>\n",
              "      <td>0</td>\n",
              "      <td>0</td>\n",
              "      <td>0</td>\n",
              "      <td>0</td>\n",
              "      <td>0</td>\n",
              "      <td>0</td>\n",
              "      <td>0</td>\n",
              "      <td>...</td>\n",
              "      <td>0</td>\n",
              "      <td>0</td>\n",
              "      <td>0</td>\n",
              "      <td>0</td>\n",
              "      <td>0</td>\n",
              "      <td>0</td>\n",
              "      <td>0</td>\n",
              "      <td>0</td>\n",
              "      <td>0</td>\n",
              "      <td>0</td>\n",
              "    </tr>\n",
              "    <tr>\n",
              "      <th>59999</th>\n",
              "      <td>0</td>\n",
              "      <td>0</td>\n",
              "      <td>0</td>\n",
              "      <td>0</td>\n",
              "      <td>0</td>\n",
              "      <td>0</td>\n",
              "      <td>0</td>\n",
              "      <td>0</td>\n",
              "      <td>0</td>\n",
              "      <td>0</td>\n",
              "      <td>...</td>\n",
              "      <td>0</td>\n",
              "      <td>0</td>\n",
              "      <td>0</td>\n",
              "      <td>0</td>\n",
              "      <td>0</td>\n",
              "      <td>0</td>\n",
              "      <td>0</td>\n",
              "      <td>0</td>\n",
              "      <td>0</td>\n",
              "      <td>0</td>\n",
              "    </tr>\n",
              "  </tbody>\n",
              "</table>\n",
              "<p>60000 rows × 784 columns</p>\n",
              "</div>"
            ],
            "text/plain": [
              "       1x1  1x2  1x3  1x4  1x5  1x6  1x7  1x8  1x9  1x10  ...  28x19  28x20  \\\n",
              "0        0    0    0    0    0    0    0    0    0     0  ...      0      0   \n",
              "1        0    0    0    0    0    0    0    0    0     0  ...      0      0   \n",
              "2        0    0    0    0    0    0    0    0    0     0  ...      0      0   \n",
              "3        0    0    0    0    0    0    0    0    0     0  ...      0      0   \n",
              "4        0    0    0    0    0    0    0    0    0     0  ...      0      0   \n",
              "...    ...  ...  ...  ...  ...  ...  ...  ...  ...   ...  ...    ...    ...   \n",
              "59995    0    0    0    0    0    0    0    0    0     0  ...      0      0   \n",
              "59996    0    0    0    0    0    0    0    0    0     0  ...      0      0   \n",
              "59997    0    0    0    0    0    0    0    0    0     0  ...      0      0   \n",
              "59998    0    0    0    0    0    0    0    0    0     0  ...      0      0   \n",
              "59999    0    0    0    0    0    0    0    0    0     0  ...      0      0   \n",
              "\n",
              "       28x21  28x22  28x23  28x24  28x25  28x26  28x27  28x28  \n",
              "0          0      0      0      0      0      0      0      0  \n",
              "1          0      0      0      0      0      0      0      0  \n",
              "2          0      0      0      0      0      0      0      0  \n",
              "3          0      0      0      0      0      0      0      0  \n",
              "4          0      0      0      0      0      0      0      0  \n",
              "...      ...    ...    ...    ...    ...    ...    ...    ...  \n",
              "59995      0      0      0      0      0      0      0      0  \n",
              "59996      0      0      0      0      0      0      0      0  \n",
              "59997      0      0      0      0      0      0      0      0  \n",
              "59998      0      0      0      0      0      0      0      0  \n",
              "59999      0      0      0      0      0      0      0      0  \n",
              "\n",
              "[60000 rows x 784 columns]"
            ]
          },
          "execution_count": 134,
          "metadata": {},
          "output_type": "execute_result"
        }
      ],
      "source": [
        "X = dataset.drop(columns = dataset.columns[0], axis=1)\n",
        "Y = dataset[dataset.columns[0]]\n",
        "X"
      ]
    },
    {
      "cell_type": "markdown",
      "metadata": {
        "id": "iLUvGXCoo2Nj"
      },
      "source": [
        "Splitting our data"
      ]
    },
    {
      "cell_type": "code",
      "execution_count": null,
      "metadata": {
        "colab": {
          "base_uri": "https://localhost:8080/"
        },
        "id": "V-vIydDf8hoC",
        "outputId": "c5d73b9c-d844-43cb-a24d-da20f4a04846"
      },
      "outputs": [
        {
          "name": "stdout",
          "output_type": "stream",
          "text": [
            "(60000, 784) (48000, 784) (12000, 784)\n"
          ]
        }
      ],
      "source": [
        "X_train, X_valid, Y_train, Y_valid = train_test_split(X, Y, test_size=0.2 , random_state=42) \n",
        "print(X.shape, X_train.shape, X_valid.shape)"
      ]
    },
    {
      "cell_type": "markdown",
      "metadata": {
        "id": "bToJE_dDo7dd"
      },
      "source": [
        "convert its type to numpy to convert it to tensor"
      ]
    },
    {
      "cell_type": "code",
      "execution_count": null,
      "metadata": {
        "id": "AchbvGkrKswd"
      },
      "outputs": [],
      "source": [
        "X_train=X_train.to_numpy()\n",
        "Y_train=Y_train.to_numpy()\n",
        "X_valid=X_valid.to_numpy()\n",
        "Y_valid=Y_valid.to_numpy()"
      ]
    },
    {
      "cell_type": "code",
      "execution_count": null,
      "metadata": {
        "id": "tyQXTxAVFfKa"
      },
      "outputs": [],
      "source": [
        "import torch\n",
        "import torch.nn as nn\n",
        "\n",
        "x=torch.tensor(X_train)\n",
        "y=torch.tensor(Y_train)\n",
        "xval=torch.tensor(X_valid)\n",
        "yval=torch.tensor( Y_valid)\n",
        "y=torch.tensor(Y_train)\n"
      ]
    },
    {
      "cell_type": "code",
      "execution_count": null,
      "metadata": {
        "colab": {
          "base_uri": "https://localhost:8080/"
        },
        "id": "dqCbXpnQwT4D",
        "outputId": "4947e4b6-fa3b-4e75-8f88-24d8e8653175"
      },
      "outputs": [
        {
          "data": {
            "text/plain": [
              "48000"
            ]
          },
          "execution_count": 138,
          "metadata": {},
          "output_type": "execute_result"
        }
      ],
      "source": [
        "len(x)"
      ]
    },
    {
      "cell_type": "markdown",
      "metadata": {
        "id": "iYhK_At5pK-x"
      },
      "source": [
        "pixels value is between 0 and 249 and covert the labels to hard max "
      ]
    },
    {
      "cell_type": "markdown",
      "metadata": {
        "id": "mEt5fdiNq_0R"
      },
      "source": [
        "CTDataset is normalizing the features (pixels values) between 0 and 1 and the labels converted it to units vector where the 1 is our location of what class it is the label determines the element with the highest value and represents its location as a one-hot vector/tensor  the known probability that an image corresponds to a certain class "
      ]
    },
    {
      "cell_type": "code",
      "execution_count": null,
      "metadata": {
        "id": "Dzf9FT_Smt_v"
      },
      "outputs": [],
      "source": [
        "\n",
        "class CTDataset(Dataset):\n",
        "    def __init__(self, x , y):\n",
        "        self.x = x\n",
        "        self.y =y\n",
        "        self.x = self.x/255.\n",
        "        self.y = F.one_hot(self.y, num_classes=10).to(float)\n",
        "    def __len__(self): \n",
        "        return self.x.shape[0] #make the length of the data as the number of examples\n",
        "    def __getitem__(self, ix): \n",
        "        return self.x[ix], self.y[ix] # returns the data set objects"
      ]
    },
    {
      "cell_type": "code",
      "execution_count": null,
      "metadata": {
        "id": "lWjWaL2rm2ye"
      },
      "outputs": [],
      "source": [
        "train_ds = CTDataset(x,y)\n",
        "val_ds = CTDataset(xval,yval)"
      ]
    },
    {
      "cell_type": "code",
      "execution_count": null,
      "metadata": {
        "colab": {
          "base_uri": "https://localhost:8080/"
        },
        "id": "CT7bNrkyvw2W",
        "outputId": "cb721db7-0e64-4912-d826-beafbf53ab79"
      },
      "outputs": [
        {
          "data": {
            "text/plain": [
              "48000"
            ]
          },
          "execution_count": 141,
          "metadata": {},
          "output_type": "execute_result"
        }
      ],
      "source": [
        "len(train_ds)\n"
      ]
    },
    {
      "cell_type": "markdown",
      "metadata": {
        "id": "WBhbE6OJ17YR"
      },
      "source": [
        "Step 2\n",
        "Build a neural network architecture from scratch using PyTorch. The network should have at\n",
        "least two hidden layers and should use ReLU activation function between hidden layers. You\n",
        "can change the number of hidden layers, number of perceptrons in each layer based on your\n",
        "own preferences.\n",
        "Train the model using:\n",
        "• Optimizer: Adam\n",
        "• Learning rate : 0.01\n",
        "• Loss Function: Cross Entropy\n",
        "Plot the following\n",
        "• Training / Validation Loss.\n",
        "• Training / Validation Accuracy.\n"
      ]
    },
    {
      "cell_type": "markdown",
      "metadata": {
        "id": "yB3OZObDyMoP"
      },
      "source": [
        "devide the data to batches "
      ]
    },
    {
      "cell_type": "code",
      "execution_count": null,
      "metadata": {
        "id": "cBagBxabm62e"
      },
      "outputs": [],
      "source": [
        "train_dl = DataLoader(train_ds, batch_size=200) #devide the data to batches of size 200\n",
        "valid_dl = DataLoader(val_ds , batch_size=200)"
      ]
    },
    {
      "cell_type": "code",
      "execution_count": null,
      "metadata": {
        "id": "D0GyagXrnC8L"
      },
      "outputs": [],
      "source": [
        "class MyNeuralNet(nn.Module):\n",
        "    def __init__(self):\n",
        "        super().__init__()\n",
        "        self.Matrix1 = nn.Linear(28**2,100)\n",
        "        self.Matrix2 = nn.Linear(100,50)\n",
        "        # self.dp = nn.Dropout(0.2)\n",
        "        # self.ln=nn.LayerNorm([10, * ])\n",
        "        self.Matrix3 = nn.Linear(50,10)\n",
        "        self.R = nn.ReLU()\n",
        "    def forward(self,x):\n",
        "        x = self.R(self.Matrix1(x))\n",
        "        # x = self.dp(x)\n",
        "        x = self.R(self.Matrix2(x))\n",
        "        # x = self.ln(x)\n",
        "\n",
        "        x = self.Matrix3(x)\n",
        "        return x.squeeze()"
      ]
    },
    {
      "cell_type": "code",
      "execution_count": null,
      "metadata": {
        "id": "J91oAgJinGgX"
      },
      "outputs": [],
      "source": [
        "f = MyNeuralNet()"
      ]
    },
    {
      "cell_type": "code",
      "execution_count": null,
      "metadata": {
        "id": "1aiiKg7U6CHG"
      },
      "outputs": [],
      "source": [
        "def train_model1(dl,dv, f, n_epochs=10):\n",
        "    # Optimization\n",
        "    opt =optim.Adam(f.parameters(), lr=0.01)\n",
        "    \n",
        "    L = nn.CrossEntropyLoss()\n",
        "\n",
        "    # Train model\n",
        "    num_epochs = 10\n",
        "    train_losses = []\n",
        "    train_accs = []\n",
        "    val_losses = []\n",
        "    val_accs = []\n",
        "    for epoch in range(n_epochs):\n",
        "        running_loss = 0.0\n",
        "        running_acc = 0.0\n",
        "        val_loss = 0.0\n",
        "        val_acc = 0.0\n",
        "        print(f'Epoch {epoch}')\n",
        "        N = len(dl)\n",
        "        f.train()  \n",
        "        for i, (x, y) in enumerate(dl):\n",
        "            # Update the weights of the network\n",
        "            opt.zero_grad() \n",
        "            outputs=f(x)\n",
        "            loss = L(f(x), y) \n",
        "            loss.backward() \n",
        "            opt.step() \n",
        "            # Store training data\n",
        "            running_loss += loss.item()\n",
        "            _, preds1 = torch.max(y.data, 1)\n",
        "            _, preds = torch.max(outputs.data, 1)\n",
        "            running_acc += torch.sum(preds == preds1)\n",
        "           \n",
        "        f.eval()    \n",
        "        for i, (x, y) in enumerate(dv):\n",
        "            # Update the weights of the network\n",
        "            outputs=f(x)\n",
        "            loss = L(f(x), y) \n",
        "\n",
        "            # Store training data\n",
        "            val_loss += loss.item()\n",
        "            _, preds = torch.max(outputs.data, 1)\n",
        "            _, preds1 = torch.max(y.data, 1)\n",
        "            val_acc += torch.sum(preds == preds1 )\n",
        "\n",
        "           # Calculate the average losses and accuracies for the epoch\n",
        "        train_loss = running_loss / len(train_dl)\n",
        "        train_acc = running_acc.float() / len(train_ds)\n",
        "        val_loss /= len(valid_dl)\n",
        "        val_acc = val_acc.float() / len(val_ds)\n",
        "\n",
        "        # Print the progress for the epoch\n",
        "        print('Epoch [{}/{}], Train Loss: {:.4f}, Train Acc: {:.4f}, Val Loss: {:.4f}, Val Acc: {:.4f}'\n",
        "          .format(epoch+1, num_epochs, train_loss, train_acc, val_loss, val_acc))\n",
        "    \n",
        "        # Store the losses and accuracies for plotting later\n",
        "        train_losses.append(train_loss)\n",
        "        train_accs.append(train_acc)\n",
        "        val_losses.append(val_loss)\n",
        "        val_accs.append(val_acc)\n",
        "    return train_losses ,train_accs ,val_losses ,val_accs"
      ]
    },
    {
      "cell_type": "code",
      "execution_count": null,
      "metadata": {
        "colab": {
          "base_uri": "https://localhost:8080/"
        },
        "id": "ipwWhkURAq5z",
        "outputId": "eef3f082-e082-4395-9bb6-a198ed3dc11e"
      },
      "outputs": [
        {
          "name": "stdout",
          "output_type": "stream",
          "text": [
            "Epoch 0\n",
            "Epoch [1/10], Train Loss: 0.3089, Train Acc: 0.9059, Val Loss: 0.1616, Val Acc: 0.9517\n",
            "Epoch 1\n",
            "Epoch [2/10], Train Loss: 0.1279, Train Acc: 0.9606, Val Loss: 0.1242, Val Acc: 0.9645\n",
            "Epoch 2\n",
            "Epoch [3/10], Train Loss: 0.0989, Train Acc: 0.9701, Val Loss: 0.1188, Val Acc: 0.9672\n",
            "Epoch 3\n",
            "Epoch [4/10], Train Loss: 0.0796, Train Acc: 0.9745, Val Loss: 0.1321, Val Acc: 0.9643\n",
            "Epoch 4\n",
            "Epoch [5/10], Train Loss: 0.0670, Train Acc: 0.9794, Val Loss: 0.1469, Val Acc: 0.9628\n",
            "Epoch 5\n",
            "Epoch [6/10], Train Loss: 0.0650, Train Acc: 0.9799, Val Loss: 0.1386, Val Acc: 0.9656\n",
            "Epoch 6\n",
            "Epoch [7/10], Train Loss: 0.0567, Train Acc: 0.9814, Val Loss: 0.1552, Val Acc: 0.9644\n",
            "Epoch 7\n",
            "Epoch [8/10], Train Loss: 0.0576, Train Acc: 0.9820, Val Loss: 0.1483, Val Acc: 0.9673\n",
            "Epoch 8\n",
            "Epoch [9/10], Train Loss: 0.0535, Train Acc: 0.9841, Val Loss: 0.1389, Val Acc: 0.9707\n",
            "Epoch 9\n",
            "Epoch [10/10], Train Loss: 0.0495, Train Acc: 0.9854, Val Loss: 0.1648, Val Acc: 0.9697\n"
          ]
        }
      ],
      "source": [
        "tl,tc,vl,vc=train_model1(train_dl,valid_dl, f)"
      ]
    },
    {
      "cell_type": "code",
      "execution_count": null,
      "metadata": {
        "id": "piV0ZnlrDeRD"
      },
      "outputs": [],
      "source": [
        "import matplotlib.pyplot as plt\n",
        "\n",
        "# Plot the training and validation losses\n",
        "def plotting(tl , vl) :\n",
        " plt.plot(tl, label='Train')\n",
        " plt.plot(vl, label='Validation')\n",
        " plt.title('Loss')\n",
        " plt.xlabel('Epoch')\n",
        " plt.ylabel('Loss')\n",
        " plt.legend()\n",
        " plt.show()\n"
      ]
    },
    {
      "cell_type": "code",
      "execution_count": null,
      "metadata": {
        "colab": {
          "base_uri": "https://localhost:8080/",
          "height": 472
        },
        "id": "0Lf_wMcK3LwC",
        "outputId": "52850c3e-f47f-41a2-b8dd-9b9005c7c3df"
      },
      "outputs": [
        {
          "data": {
            "image/png": "[encoded data removed]",
            "text/plain": [
              "<Figure size 640x480 with 1 Axes>"
            ]
          },
          "metadata": {},
          "output_type": "display_data"
        }
      ],
      "source": [
        "plotting(tl , vl)"
      ]
    },
    {
      "cell_type": "code",
      "execution_count": null,
      "metadata": {
        "id": "o2zY-PMxDSjF"
      },
      "outputs": [],
      "source": [
        "\n",
        "# Plot the training and validation accuracies\n",
        "def plotaccuracy(tc, vc):\n",
        " plt.plot(tc, label='Train')\n",
        " plt.plot(vc, label='Validation')\n",
        " plt.title('Accuracy')\n",
        " plt.xlabel('Epoch')\n",
        " plt.ylabel('Accuracy')\n",
        " plt.legend()\n",
        " plt.show()"
      ]
    },
    {
      "cell_type": "code",
      "execution_count": null,
      "metadata": {
        "colab": {
          "base_uri": "https://localhost:8080/",
          "height": 472
        },
        "id": "RbOn9v-03W-w",
        "outputId": "9afa0baf-1af9-44a1-f284-748ba3ddd196"
      },
      "outputs": [
        {
          "data": {
            "image/png": "[encoded data removed]",
            "text/plain": [
              "<Figure size 640x480 with 1 Axes>"
            ]
          },
          "metadata": {},
          "output_type": "display_data"
        }
      ],
      "source": [
        "plotaccuracy(tc, vc)"
      ]
    },
    {
      "cell_type": "markdown",
      "metadata": {
        "id": "FapV3cWg4cbE"
      },
      "source": [
        "step 3\n",
        "Add Dropout and Layer Normalization layers to your model’s architecture. Retrain the model\n",
        "and compare the following plots\n"
      ]
    },
    {
      "cell_type": "code",
      "execution_count": null,
      "metadata": {
        "id": "nvWuCzho2nEw"
      },
      "outputs": [],
      "source": [
        "class MyNeuralNet2(nn.Module):\n",
        "     def __init__(self):\n",
        "        super().__init__()\n",
        "        self.Matrix1 = nn.Linear(28**2,100)\n",
        "        self.Matrix2 = nn.Linear(100,50)\n",
        "        self.dp = nn.Dropout(0.3)\n",
        "        self.ln=torch.nn.LayerNorm(100, elementwise_affine = False)\n",
        "        self.ln2=torch.nn.LayerNorm(50, elementwise_affine = False)\n",
        "        self.Matrix3 = nn.Linear(50,10)\n",
        "        self.R = nn.ReLU()\n",
        "     def forward(self,x):\n",
        "        x = self.R(self.Matrix1(x))\n",
        "        x = self.ln(x)\n",
        "        x = self.dp(x)\n",
        "        x=self.Matrix2(x)\n",
        "        x = self.R(self.ln2(x))\n",
        "\n",
        "        x = self.Matrix3(x)\n",
        "        return x.squeeze()"
      ]
    },
    {
      "cell_type": "code",
      "execution_count": null,
      "metadata": {
        "id": "bTgo8-lM2vLl"
      },
      "outputs": [],
      "source": [
        "f2 = MyNeuralNet2()"
      ]
    },
    {
      "cell_type": "code",
      "execution_count": null,
      "metadata": {
        "colab": {
          "base_uri": "https://localhost:8080/"
        },
        "id": "zaJVr8g82xyC",
        "outputId": "316018d4-324b-4267-8737-bbb95d210efe"
      },
      "outputs": [
        {
          "name": "stdout",
          "output_type": "stream",
          "text": [
            "Epoch 0\n",
            "Epoch [1/10], Train Loss: 0.3547, Train Acc: 0.8958, Val Loss: 0.1547, Val Acc: 0.9520\n",
            "Epoch 1\n",
            "Epoch [2/10], Train Loss: 0.1841, Train Acc: 0.9441, Val Loss: 0.1284, Val Acc: 0.9611\n",
            "Epoch 2\n",
            "Epoch [3/10], Train Loss: 0.1501, Train Acc: 0.9540, Val Loss: 0.1068, Val Acc: 0.9683\n",
            "Epoch 3\n",
            "Epoch [4/10], Train Loss: 0.1306, Train Acc: 0.9587, Val Loss: 0.1056, Val Acc: 0.9695\n",
            "Epoch 4\n",
            "Epoch [5/10], Train Loss: 0.1184, Train Acc: 0.9629, Val Loss: 0.0981, Val Acc: 0.9721\n",
            "Epoch 5\n",
            "Epoch [6/10], Train Loss: 0.1084, Train Acc: 0.9661, Val Loss: 0.0901, Val Acc: 0.9743\n",
            "Epoch 6\n",
            "Epoch [7/10], Train Loss: 0.0965, Train Acc: 0.9690, Val Loss: 0.0883, Val Acc: 0.9738\n",
            "Epoch 7\n",
            "Epoch [8/10], Train Loss: 0.0917, Train Acc: 0.9704, Val Loss: 0.0871, Val Acc: 0.9744\n",
            "Epoch 8\n",
            "Epoch [9/10], Train Loss: 0.0883, Train Acc: 0.9721, Val Loss: 0.0850, Val Acc: 0.9753\n",
            "Epoch 9\n",
            "Epoch [10/10], Train Loss: 0.0839, Train Acc: 0.9733, Val Loss: 0.0892, Val Acc: 0.9742\n"
          ]
        }
      ],
      "source": [
        "tl,tc,vl,vc=train_model1(train_dl,valid_dl, f2)"
      ]
    },
    {
      "cell_type": "code",
      "execution_count": null,
      "metadata": {
        "colab": {
          "base_uri": "https://localhost:8080/",
          "height": 472
        },
        "id": "RlJVYfqG4UxO",
        "outputId": "8460dffe-36f3-47ca-8f47-fa6d5aaf70f2"
      },
      "outputs": [
        {
          "data": {
            "image/png": "[encoded data removed]",
            "text/plain": [
              "<Figure size 640x480 with 1 Axes>"
            ]
          },
          "metadata": {},
          "output_type": "display_data"
        }
      ],
      "source": [
        "plotting(tl , vl)"
      ]
    },
    {
      "cell_type": "code",
      "execution_count": null,
      "metadata": {
        "colab": {
          "base_uri": "https://localhost:8080/",
          "height": 472
        },
        "id": "gOhd9eTX4V_P",
        "outputId": "ad000e8d-e6c7-42b9-dcc7-203d4f4344d2"
      },
      "outputs": [
        {
          "data": {
            "image/png": "[encoded data removed]",
            "text/plain": [
              "<Figure size 640x480 with 1 Axes>"
            ]
          },
          "metadata": {},
          "output_type": "display_data"
        }
      ],
      "source": [
        "plotaccuracy(tc, vc)"
      ]
    },
    {
      "cell_type": "markdown",
      "metadata": {
        "id": "aycOJkSb55Y8"
      },
      "source": [
        "Step 4\n",
        "Train 3 more model based on the model architecture you chose in step 3. For each model you\n",
        "will change the following:\n",
        "• Learning Rate (0.001, 0.0005, 0.0001).\n",
        "• Probability of Dropout. (0.2, 0.4, 0.6).\n",
        "Report same plots and comparisons requested in step 3.\n"
      ]
    },
    {
      "cell_type": "code",
      "execution_count": null,
      "metadata": {
        "id": "InyFj_v648DE"
      },
      "outputs": [],
      "source": [
        "class MyNeuralNet3(nn.Module):\n",
        "     def __init__(self):\n",
        "        super().__init__()\n",
        "        self.Matrix1 = nn.Linear(28**2,100)\n",
        "        self.Matrix2 = nn.Linear(100,50)\n",
        "        self.dp = nn.Dropout(0.2)\n",
        "        self.ln=torch.nn.LayerNorm(100, elementwise_affine = False)\n",
        "        self.Matrix3 = nn.Linear(50,10)\n",
        "        self.R = nn.ReLU()\n",
        "     def forward(self,x):\n",
        "        x = self.R(self.Matrix1(x))\n",
        "        x = self.ln(x) \n",
        "        x = self.dp(x)\n",
        "        x = self.R(self.Matrix2(x))\n",
        "       \n",
        "\n",
        "        x = self.Matrix3(x)\n",
        "        return x.squeeze()"
      ]
    },
    {
      "cell_type": "code",
      "execution_count": null,
      "metadata": {
        "id": "oADDElbP5O-E"
      },
      "outputs": [],
      "source": [
        "def train_model2(dl,dv, f, n_epochs=10):\n",
        "    # Optimization\n",
        "    opt =optim.Adam(f.parameters(), lr=0.001)\n",
        "    \n",
        "    L = nn.CrossEntropyLoss()\n",
        "\n",
        "    # Train model\n",
        "    num_epochs = 10\n",
        "    train_losses = []\n",
        "    train_accs = []\n",
        "    val_losses = []\n",
        "    val_accs = []\n",
        "    for epoch in range(n_epochs):\n",
        "        running_loss = 0.0\n",
        "        running_acc = 0.0\n",
        "        val_loss = 0.0\n",
        "        val_acc = 0.0\n",
        "        print(f'Epoch {epoch}')\n",
        "        N = len(dl)\n",
        "        f.train()  \n",
        "        for i, (x, y) in enumerate(dl):\n",
        "            # Update the weights of the network\n",
        "            opt.zero_grad() \n",
        "            outputs=f(x)\n",
        "            loss = L(f(x), y) \n",
        "            loss.backward() \n",
        "            opt.step() \n",
        "            # Store training data\n",
        "            running_loss += loss.item()\n",
        "            _, preds1 = torch.max(y.data, 1)\n",
        "            _, preds = torch.max(outputs.data, 1)\n",
        "            running_acc += torch.sum(preds == preds1)\n",
        "           \n",
        "        f.eval()    \n",
        "        for i, (x, y) in enumerate(dv):\n",
        "            # Update the weights of the network\n",
        "            outputs=f(x)\n",
        "            loss = L(f(x), y) \n",
        "\n",
        "            # Store training data\n",
        "            val_loss += loss.item()\n",
        "            _, preds = torch.max(outputs.data, 1)\n",
        "            _, preds1 = torch.max(y.data, 1)\n",
        "            val_acc += torch.sum(preds == preds1 )\n",
        "\n",
        "           # Calculate the average losses and accuracies for the epoch\n",
        "        train_loss = running_loss / len(train_dl)\n",
        "        train_acc = running_acc.float() / len(train_ds)\n",
        "        val_loss /= len(valid_dl)\n",
        "        val_acc = val_acc.float() / len(val_ds)\n",
        "\n",
        "        # Print the progress for the epoch\n",
        "        print('Epoch [{}/{}], Train Loss: {:.4f}, Train Acc: {:.4f}, Val Loss: {:.4f}, Val Acc: {:.4f}'\n",
        "          .format(epoch+1, num_epochs, train_loss, train_acc, val_loss, val_acc))\n",
        "    \n",
        "        # Store the losses and accuracies for plotting later\n",
        "        train_losses.append(train_loss)\n",
        "        train_accs.append(train_acc)\n",
        "        val_losses.append(val_loss)\n",
        "        val_accs.append(val_acc)\n",
        "    return train_losses ,train_accs ,val_losses ,val_accs"
      ]
    },
    {
      "cell_type": "code",
      "execution_count": null,
      "metadata": {
        "id": "UaYyy94n5las"
      },
      "outputs": [],
      "source": [
        "f3 = MyNeuralNet3()"
      ]
    },
    {
      "cell_type": "code",
      "execution_count": null,
      "metadata": {
        "colab": {
          "base_uri": "https://localhost:8080/"
        },
        "id": "Diymj5GT5la5",
        "outputId": "6ae4323d-a42d-4886-d798-3c7842f45f20"
      },
      "outputs": [
        {
          "name": "stdout",
          "output_type": "stream",
          "text": [
            "Epoch 0\n",
            "Epoch [1/10], Train Loss: 0.4574, Train Acc: 0.8850, Val Loss: 0.1876, Val Acc: 0.9409\n",
            "Epoch 1\n",
            "Epoch [2/10], Train Loss: 0.1810, Train Acc: 0.9477, Val Loss: 0.1383, Val Acc: 0.9586\n",
            "Epoch 2\n",
            "Epoch [3/10], Train Loss: 0.1365, Train Acc: 0.9589, Val Loss: 0.1238, Val Acc: 0.9613\n",
            "Epoch 3\n",
            "Epoch [4/10], Train Loss: 0.1116, Train Acc: 0.9658, Val Loss: 0.1114, Val Acc: 0.9659\n",
            "Epoch 4\n",
            "Epoch [5/10], Train Loss: 0.0978, Train Acc: 0.9703, Val Loss: 0.0997, Val Acc: 0.9683\n",
            "Epoch 5\n",
            "Epoch [6/10], Train Loss: 0.0863, Train Acc: 0.9727, Val Loss: 0.0984, Val Acc: 0.9701\n",
            "Epoch 6\n",
            "Epoch [7/10], Train Loss: 0.0762, Train Acc: 0.9760, Val Loss: 0.0963, Val Acc: 0.9713\n",
            "Epoch 7\n",
            "Epoch [8/10], Train Loss: 0.0725, Train Acc: 0.9768, Val Loss: 0.0947, Val Acc: 0.9715\n",
            "Epoch 8\n",
            "Epoch [9/10], Train Loss: 0.0655, Train Acc: 0.9795, Val Loss: 0.0890, Val Acc: 0.9731\n",
            "Epoch 9\n",
            "Epoch [10/10], Train Loss: 0.0614, Train Acc: 0.9804, Val Loss: 0.0901, Val Acc: 0.9725\n"
          ]
        }
      ],
      "source": [
        "tl,tc,vl,vc=train_model2(train_dl,valid_dl, f3)"
      ]
    },
    {
      "cell_type": "code",
      "execution_count": null,
      "metadata": {
        "colab": {
          "base_uri": "https://localhost:8080/",
          "height": 472
        },
        "id": "rF82Bmgn5la5",
        "outputId": "e330901b-6b1c-48bb-f2e5-542c5b50692f"
      },
      "outputs": [
        {
          "data": {
            "image/png": "[encoded data removed]",
            "text/plain": [
              "<Figure size 640x480 with 1 Axes>"
            ]
          },
          "metadata": {},
          "output_type": "display_data"
        }
      ],
      "source": [
        "plotting(tl , vl)"
      ]
    },
    {
      "cell_type": "code",
      "execution_count": null,
      "metadata": {
        "colab": {
          "base_uri": "https://localhost:8080/",
          "height": 472
        },
        "id": "S07f2Zb15la6",
        "outputId": "a771b714-ad07-48ca-be69-5d9aa359fc61"
      },
      "outputs": [
        {
          "data": {
            "image/png": "[encoded data removed]",
            "text/plain": [
              "<Figure size 640x480 with 1 Axes>"
            ]
          },
          "metadata": {},
          "output_type": "display_data"
        }
      ],
      "source": [
        "plotaccuracy(tc, vc)"
      ]
    },
    {
      "cell_type": "code",
      "execution_count": null,
      "metadata": {
        "id": "1Qp1xo8q6SmK"
      },
      "outputs": [],
      "source": [
        "class MyNeuralNet3(nn.Module):\n",
        "     def __init__(self):\n",
        "        super().__init__()\n",
        "        self.Matrix1 = nn.Linear(28**2,100)\n",
        "        self.Matrix2 = nn.Linear(100,50)\n",
        "        self.dp = nn.Dropout(0.4)\n",
        "        self.ln=torch.nn.LayerNorm(100, elementwise_affine = False)\n",
        "        self.Matrix3 = nn.Linear(50,10)\n",
        "        self.R = nn.ReLU()\n",
        "     def forward(self,x):\n",
        "        x = self.R(self.Matrix1(x))\n",
        "        x = self.ln(x)\n",
        "        x = self.dp(x)\n",
        "        x = self.R(self.Matrix2(x))\n",
        "    \n",
        "\n",
        "        x = self.Matrix3(x)\n",
        "        return x.squeeze()"
      ]
    },
    {
      "cell_type": "code",
      "execution_count": null,
      "metadata": {
        "id": "ckTeUNI26SmM"
      },
      "outputs": [],
      "source": [
        "def train_model2(dl,dv, f, n_epochs=10):\n",
        "    # Optimization\n",
        "    opt =optim.Adam(f.parameters(), lr=0.0005)\n",
        "    \n",
        "    L = nn.CrossEntropyLoss()\n",
        "\n",
        "    # Train model\n",
        "    num_epochs = 10\n",
        "    train_losses = []\n",
        "    train_accs = []\n",
        "    val_losses = []\n",
        "    val_accs = []\n",
        "    for epoch in range(n_epochs):\n",
        "        running_loss = 0.0\n",
        "        running_acc = 0.0\n",
        "        val_loss = 0.0\n",
        "        val_acc = 0.0\n",
        "        print(f'Epoch {epoch}')\n",
        "        N = len(dl)\n",
        "        f.train()  \n",
        "        for i, (x, y) in enumerate(dl):\n",
        "            # Update the weights of the network\n",
        "            opt.zero_grad() \n",
        "            outputs=f(x)\n",
        "            loss = L(f(x), y) \n",
        "            loss.backward() \n",
        "            opt.step() \n",
        "            # Store training data\n",
        "            running_loss += loss.item()\n",
        "            _, preds1 = torch.max(y.data, 1)\n",
        "            _, preds = torch.max(outputs.data, 1)\n",
        "            running_acc += torch.sum(preds == preds1)\n",
        "           \n",
        "        f.eval()    \n",
        "        for i, (x, y) in enumerate(dv):\n",
        "            # Update the weights of the network\n",
        "            outputs=f(x)\n",
        "            loss = L(f(x), y) \n",
        "\n",
        "            # Store training data\n",
        "            val_loss += loss.item()\n",
        "            _, preds = torch.max(outputs.data, 1)\n",
        "            _, preds1 = torch.max(y.data, 1)\n",
        "            val_acc += torch.sum(preds == preds1 )\n",
        "\n",
        "           # Calculate the average losses and accuracies for the epoch\n",
        "        train_loss = running_loss / len(train_dl)\n",
        "        train_acc = running_acc.float() / len(train_ds)\n",
        "        val_loss /= len(valid_dl)\n",
        "        val_acc = val_acc.float() / len(val_ds)\n",
        "\n",
        "        # Print the progress for the epoch\n",
        "        print('Epoch [{}/{}], Train Loss: {:.4f}, Train Acc: {:.4f}, Val Loss: {:.4f}, Val Acc: {:.4f}'\n",
        "          .format(epoch+1, num_epochs, train_loss, train_acc, val_loss, val_acc))\n",
        "    \n",
        "        # Store the losses and accuracies for plotting later\n",
        "        train_losses.append(train_loss)\n",
        "        train_accs.append(train_acc)\n",
        "        val_losses.append(val_loss)\n",
        "        val_accs.append(val_acc)\n",
        "    return train_losses ,train_accs ,val_losses ,val_accs"
      ]
    },
    {
      "cell_type": "code",
      "execution_count": null,
      "metadata": {
        "id": "EV6pB8PN6SmN"
      },
      "outputs": [],
      "source": [
        "f3 = MyNeuralNet3()"
      ]
    },
    {
      "cell_type": "code",
      "execution_count": null,
      "metadata": {
        "colab": {
          "base_uri": "https://localhost:8080/"
        },
        "id": "n87SqJZB6SmO",
        "outputId": "06d1d3d0-18bf-4cdc-cb49-2fd9fa83d886"
      },
      "outputs": [
        {
          "name": "stdout",
          "output_type": "stream",
          "text": [
            "Epoch 0\n",
            "Epoch [1/10], Train Loss: 0.6737, Train Acc: 0.8253, Val Loss: 0.2497, Val Acc: 0.9293\n",
            "Epoch 1\n",
            "Epoch [2/10], Train Loss: 0.2619, Train Acc: 0.9254, Val Loss: 0.1808, Val Acc: 0.9467\n",
            "Epoch 2\n",
            "Epoch [3/10], Train Loss: 0.2049, Train Acc: 0.9399, Val Loss: 0.1515, Val Acc: 0.9548\n",
            "Epoch 3\n",
            "Epoch [4/10], Train Loss: 0.1733, Train Acc: 0.9480, Val Loss: 0.1338, Val Acc: 0.9595\n",
            "Epoch 4\n",
            "Epoch [5/10], Train Loss: 0.1560, Train Acc: 0.9535, Val Loss: 0.1234, Val Acc: 0.9646\n",
            "Epoch 5\n",
            "Epoch [6/10], Train Loss: 0.1391, Train Acc: 0.9571, Val Loss: 0.1151, Val Acc: 0.9664\n",
            "Epoch 6\n",
            "Epoch [7/10], Train Loss: 0.1275, Train Acc: 0.9603, Val Loss: 0.1079, Val Acc: 0.9682\n",
            "Epoch 7\n",
            "Epoch [8/10], Train Loss: 0.1220, Train Acc: 0.9626, Val Loss: 0.1075, Val Acc: 0.9675\n",
            "Epoch 8\n",
            "Epoch [9/10], Train Loss: 0.1163, Train Acc: 0.9636, Val Loss: 0.1015, Val Acc: 0.9711\n",
            "Epoch 9\n",
            "Epoch [10/10], Train Loss: 0.1076, Train Acc: 0.9664, Val Loss: 0.1005, Val Acc: 0.9698\n"
          ]
        }
      ],
      "source": [
        "tl,tc,vl,vc=train_model2(train_dl,valid_dl, f3)"
      ]
    },
    {
      "cell_type": "code",
      "execution_count": null,
      "metadata": {
        "colab": {
          "base_uri": "https://localhost:8080/",
          "height": 472
        },
        "id": "soDum9vG6SmP",
        "outputId": "2fde0d22-1b1b-4a52-a75a-735f4fdee7e8"
      },
      "outputs": [
        {
          "data": {
            "image/png": "[encoded data removed]",
            "text/plain": [
              "<Figure size 640x480 with 1 Axes>"
            ]
          },
          "metadata": {},
          "output_type": "display_data"
        }
      ],
      "source": [
        "plotting(tl , vl)"
      ]
    },
    {
      "cell_type": "code",
      "execution_count": null,
      "metadata": {
        "colab": {
          "base_uri": "https://localhost:8080/",
          "height": 472
        },
        "id": "bmaAD6oi6SmP",
        "outputId": "9f8bab35-a593-40fa-eddd-06663ee9a1bb"
      },
      "outputs": [
        {
          "data": {
            "image/png": "[encoded data removed]",
            "text/plain": [
              "<Figure size 640x480 with 1 Axes>"
            ]
          },
          "metadata": {},
          "output_type": "display_data"
        }
      ],
      "source": [
        "plotaccuracy(tc, vc)"
      ]
    },
    {
      "cell_type": "code",
      "execution_count": null,
      "metadata": {
        "id": "kAhNmqeY6l03"
      },
      "outputs": [],
      "source": [
        "class MyNeuralNet3(nn.Module):\n",
        "     def __init__(self):\n",
        "        super().__init__()\n",
        "        self.Matrix1 = nn.Linear(28**2,100)\n",
        "        self.Matrix2 = nn.Linear(100,50)\n",
        "        self.dp = nn.Dropout(0.6)\n",
        "        self.ln=torch.nn.LayerNorm(100, elementwise_affine = False)\n",
        "        self.Matrix3 = nn.Linear(50,10)\n",
        "        self.R = nn.ReLU()\n",
        "     def forward(self,x):\n",
        "        x = self.R(self.Matrix1(x))\n",
        "        x = self.ln(x)\n",
        "        x = self.dp(x) \n",
        "        x = self.R(self.Matrix2(x))\n",
        "       \n",
        "\n",
        "        x = self.Matrix3(x)\n",
        "        return x.squeeze()"
      ]
    },
    {
      "cell_type": "code",
      "execution_count": null,
      "metadata": {
        "id": "hw_aSP5P6l03"
      },
      "outputs": [],
      "source": [
        "def train_model2(dl,dv, f, n_epochs=10):\n",
        "    # Optimization\n",
        "    opt =optim.Adam(f.parameters(), lr=0.0001)\n",
        "    \n",
        "    L = nn.CrossEntropyLoss()\n",
        "\n",
        "    # Train model\n",
        "    num_epochs = 10\n",
        "    train_losses = []\n",
        "    train_accs = []\n",
        "    val_losses = []\n",
        "    val_accs = []\n",
        "    for epoch in range(n_epochs):\n",
        "        running_loss = 0.0\n",
        "        running_acc = 0.0\n",
        "        val_loss = 0.0\n",
        "        val_acc = 0.0\n",
        "        print(f'Epoch {epoch}')\n",
        "        N = len(dl)\n",
        "        f.train()  \n",
        "        for i, (x, y) in enumerate(dl):\n",
        "            # Update the weights of the network\n",
        "            opt.zero_grad() \n",
        "            outputs=f(x)\n",
        "            loss = L(f(x), y) \n",
        "            loss.backward() \n",
        "            opt.step() \n",
        "            # Store training data\n",
        "            running_loss += loss.item()\n",
        "            _, preds1 = torch.max(y.data, 1)\n",
        "            _, preds = torch.max(outputs.data, 1)\n",
        "            running_acc += torch.sum(preds == preds1)\n",
        "           \n",
        "        f.eval()    \n",
        "        for i, (x, y) in enumerate(dv):\n",
        "            # Update the weights of the network\n",
        "            outputs=f(x)\n",
        "            loss = L(f(x), y) \n",
        "\n",
        "            # Store training data\n",
        "            val_loss += loss.item()\n",
        "            _, preds = torch.max(outputs.data, 1)\n",
        "            _, preds1 = torch.max(y.data, 1)\n",
        "            val_acc += torch.sum(preds == preds1 )\n",
        "\n",
        "           # Calculate the average losses and accuracies for the epoch\n",
        "        train_loss = running_loss / len(train_dl)\n",
        "        train_acc = running_acc.float() / len(train_ds)\n",
        "        val_loss /= len(valid_dl)\n",
        "        val_acc = val_acc.float() / len(val_ds)\n",
        "\n",
        "        # Print the progress for the epoch\n",
        "        print('Epoch [{}/{}], Train Loss: {:.4f}, Train Acc: {:.4f}, Val Loss: {:.4f}, Val Acc: {:.4f}'\n",
        "          .format(epoch+1, num_epochs, train_loss, train_acc, val_loss, val_acc))\n",
        "    \n",
        "        # Store the losses and accuracies for plotting later\n",
        "        train_losses.append(train_loss)\n",
        "        train_accs.append(train_acc)\n",
        "        val_losses.append(val_loss)\n",
        "        val_accs.append(val_acc)\n",
        "    return train_losses ,train_accs ,val_losses ,val_accs"
      ]
    },
    {
      "cell_type": "code",
      "execution_count": null,
      "metadata": {
        "id": "Rp4y_W3r6l04"
      },
      "outputs": [],
      "source": [
        "f3 = MyNeuralNet3()"
      ]
    },
    {
      "cell_type": "code",
      "execution_count": null,
      "metadata": {
        "colab": {
          "base_uri": "https://localhost:8080/"
        },
        "id": "9T62AUQe6l04",
        "outputId": "03b57184-072f-4919-ab21-3d0333e6bd0e"
      },
      "outputs": [
        {
          "name": "stdout",
          "output_type": "stream",
          "text": [
            "Epoch 0\n",
            "Epoch [1/10], Train Loss: 1.5319, Train Acc: 0.5903, Val Loss: 0.8724, Val Acc: 0.8555\n",
            "Epoch 1\n",
            "Epoch [2/10], Train Loss: 0.7532, Train Acc: 0.8347, Val Loss: 0.4582, Val Acc: 0.8991\n",
            "Epoch 2\n",
            "Epoch [3/10], Train Loss: 0.5040, Train Acc: 0.8771, Val Loss: 0.3357, Val Acc: 0.9128\n",
            "Epoch 3\n",
            "Epoch [4/10], Train Loss: 0.4096, Train Acc: 0.8911, Val Loss: 0.2855, Val Acc: 0.9187\n",
            "Epoch 4\n",
            "Epoch [5/10], Train Loss: 0.3585, Train Acc: 0.9002, Val Loss: 0.2559, Val Acc: 0.9243\n",
            "Epoch 5\n",
            "Epoch [6/10], Train Loss: 0.3317, Train Acc: 0.9062, Val Loss: 0.2380, Val Acc: 0.9282\n",
            "Epoch 6\n",
            "Epoch [7/10], Train Loss: 0.3079, Train Acc: 0.9108, Val Loss: 0.2226, Val Acc: 0.9332\n",
            "Epoch 7\n",
            "Epoch [8/10], Train Loss: 0.2917, Train Acc: 0.9167, Val Loss: 0.2108, Val Acc: 0.9367\n",
            "Epoch 8\n",
            "Epoch [9/10], Train Loss: 0.2750, Train Acc: 0.9195, Val Loss: 0.2008, Val Acc: 0.9383\n",
            "Epoch 9\n",
            "Epoch [10/10], Train Loss: 0.2664, Train Acc: 0.9206, Val Loss: 0.1917, Val Acc: 0.9424\n"
          ]
        }
      ],
      "source": [
        "tl,tc,vl,vc=train_model2(train_dl,valid_dl, f3)"
      ]
    },
    {
      "cell_type": "code",
      "execution_count": null,
      "metadata": {
        "colab": {
          "base_uri": "https://localhost:8080/",
          "height": 472
        },
        "id": "lyAIA38R6l05",
        "outputId": "03e63352-4948-42aa-f7be-88aa1896b739"
      },
      "outputs": [
        {
          "data": {
            "image/png": "[encoded data removed]",
            "text/plain": [
              "<Figure size 640x480 with 1 Axes>"
            ]
          },
          "metadata": {},
          "output_type": "display_data"
        }
      ],
      "source": [
        "plotting(tl , vl)"
      ]
    },
    {
      "cell_type": "code",
      "execution_count": null,
      "metadata": {
        "colab": {
          "base_uri": "https://localhost:8080/",
          "height": 472
        },
        "id": "zhGZkLiq6l05",
        "outputId": "10a5eaea-b096-4862-dc9c-b28d8b38c5a6"
      },
      "outputs": [
        {
          "data": {
            "image/png": "[encoded data removed]",
            "text/plain": [
              "<Figure size 640x480 with 1 Axes>"
            ]
          },
          "metadata": {},
          "output_type": "display_data"
        }
      ],
      "source": [
        "plotaccuracy(tc, vc)"
      ]
    },
    {
      "cell_type": "code",
      "execution_count": null,
      "metadata": {
        "id": "Y98k_S5nx1yr"
      },
      "outputs": [],
      "source": []
    },
    {
      "cell_type": "code",
      "execution_count": null,
      "metadata": {
        "id": "eQr_o_MDx1yr"
      },
      "outputs": [],
      "source": []
    }
  ],
  "metadata": {
    "colab": {
      "provenance": []
    },
    "kernelspec": {
      "display_name": "Python 3 (ipykernel)",
      "language": "python",
      "name": "python3"
    },
    "language_info": {
      "codemirror_mode": {
        "name": "ipython",
        "version": 3
      },
      "file_extension": ".py",
      "mimetype": "text/x-python",
      "name": "python",
      "nbconvert_exporter": "python",
      "pygments_lexer": "ipython3",
      "version": "3.10.9"
    }
  },
  "nbformat": 4,
  "nbformat_minor": 0
}